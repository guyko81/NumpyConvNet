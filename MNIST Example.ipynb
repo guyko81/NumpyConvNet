{
 "cells": [
  {
   "cell_type": "code",
   "execution_count": 1,
   "metadata": {},
   "outputs": [],
   "source": [
    "from layers import Dense, Conv2D, Flatten, MaxPool2D, AveragePool2D, ReLU, ELU, BatchNorm, Dropout\n",
    "from loss import CategoricalCrossentropyLogits\n",
    "\n",
    "import numpy as np\n"
   ]
  },
  {
   "cell_type": "markdown",
   "metadata": {},
   "source": [
    "# Using Keras only for the dataset"
   ]
  },
  {
   "cell_type": "code",
   "execution_count": 2,
   "metadata": {},
   "outputs": [
    {
     "name": "stderr",
     "output_type": "stream",
     "text": [
      "C:\\Users\\guyko\\Anaconda3\\lib\\site-packages\\h5py\\__init__.py:36: FutureWarning: Conversion of the second argument of issubdtype from `float` to `np.floating` is deprecated. In future, it will be treated as `np.float64 == np.dtype(float).type`.\n",
      "  from ._conv import register_converters as _register_converters\n",
      "Using TensorFlow backend.\n"
     ]
    }
   ],
   "source": [
    "import keras\n",
    "import matplotlib.pyplot as plt\n",
    "get_ipython().run_line_magic('matplotlib', 'inline')\n",
    "\n",
    "def load_dataset(flatten=False):\n",
    "    (X_train, y_train), (X_test, y_test) = keras.datasets.mnist.load_data()\n",
    "\n",
    "    # normalize x\n",
    "    X_train = np.expand_dims(X_train.astype(float), -1) / 255.\n",
    "    X_test = np.expand_dims(X_test.astype(float), -1) / 255.\n",
    "\n",
    "    # we reserve the last 10000 training examples for validation\n",
    "    X_train, X_val = X_train[:-50000], X_train[-50000:-40000]\n",
    "    y_train, y_val = y_train[:-50000], y_train[-50000:-40000]\n",
    "\n",
    "    if flatten:\n",
    "        X_train = X_train.reshape([X_train.shape[0], -1])\n",
    "        X_val = X_val.reshape([X_val.shape[0], -1])\n",
    "        X_test = X_test.reshape([X_test.shape[0], -1])\n",
    "\n",
    "    return X_train, y_train, X_val, y_val, X_test, y_test\n",
    "\n",
    "X_train, y_train, X_val, y_val, X_test, y_test = load_dataset(flatten=False)"
   ]
  },
  {
   "cell_type": "markdown",
   "metadata": {},
   "source": [
    "# Building the network"
   ]
  },
  {
   "cell_type": "code",
   "execution_count": 3,
   "metadata": {},
   "outputs": [],
   "source": [
    "network = []\n",
    "network.append(Conv2D(in_channels=1, num_filters=32, kernel_size=3, strides=1, padding=0))\n",
    "network.append(ReLU())\n",
    "network.append(BatchNorm(32))\n",
    "network.append(Conv2D(in_channels=32, num_filters=32, kernel_size=3, strides=1, padding=0))\n",
    "network.append(ReLU())\n",
    "network.append(BatchNorm(32))\n",
    "network.append(MaxPool2D(kernel_size=2, stride=2))\n",
    "network.append(Dropout(rate=0.2))\n",
    "\n",
    "network.append(Conv2D(in_channels=32, num_filters=32, kernel_size=3, strides=1, padding=0))\n",
    "network.append(ReLU())\n",
    "network.append(BatchNorm(32))\n",
    "network.append(Conv2D(in_channels=32, num_filters=32, kernel_size=3, strides=1, padding=0))\n",
    "network.append(ReLU())\n",
    "network.append(BatchNorm(32))\n",
    "network.append(MaxPool2D(kernel_size=2, stride=2))\n",
    "network.append(Dropout(rate=0.2))\n",
    "\n",
    "network.append(Flatten())\n",
    "network.append(Dense(32*4*4,10))"
   ]
  },
  {
   "cell_type": "markdown",
   "metadata": {},
   "source": [
    "# Define learning steps"
   ]
  },
  {
   "cell_type": "code",
   "execution_count": null,
   "metadata": {},
   "outputs": [],
   "source": [
    "def forward(network, X, train=True):\n",
    "    activations = []\n",
    "    inputs = X\n",
    "\n",
    "    for layer in network:\n",
    "        activations.append(layer.forward(inputs, train))\n",
    "        inputs = activations[-1]\n",
    "    return activations\n",
    "\n",
    "def predict(network, X):\n",
    "    logits = forward(network, X, train=False)[-1]\n",
    "    return logits.argmax(axis=-1)\n",
    "\n",
    "def train(network, X, y):\n",
    "    activations = forward(network, X, train=True)\n",
    "    layer_inputs = [X] + activations\n",
    "    logits = activations[-1]\n",
    "\n",
    "    metric = CategoricalCrossentropyLogits()\n",
    "    loss = metric.loss(logits, y)\n",
    "    loss_grad = metric.grad(logits, y)\n",
    "    \n",
    "\n",
    "    for layer_index in range(len(network))[::-1]:\n",
    "        layer = network[layer_index]\n",
    "        loss_grad = layer.backward(layer_inputs[layer_index], loss_grad)\n",
    "        \n",
    "    return np.mean(loss)"
   ]
  },
  {
   "cell_type": "markdown",
   "metadata": {},
   "source": [
    "# Learn"
   ]
  },
  {
   "cell_type": "code",
   "execution_count": null,
   "metadata": {},
   "outputs": [
    {
     "name": "stderr",
     "output_type": "stream",
     "text": [
      " 14%|█▍        | 45/312 [02:39<15:49,  3.56s/it]"
     ]
    }
   ],
   "source": [
    "from tqdm import trange\n",
    "def iterate_minibatches(inputs, targets, batchsize):\n",
    "    indices = np.random.permutation(len(inputs))\n",
    "    for start_idx in trange(0, len(inputs) - batchsize + 1, batchsize):\n",
    "        excerpt = indices[start_idx:start_idx + batchsize]\n",
    "        yield inputs[excerpt], targets[excerpt]\n",
    "\n",
    "\n",
    "# In[14]:\n",
    "\n",
    "\n",
    "from IPython.display import clear_output\n",
    "train_log = []\n",
    "val_log = []\n",
    "train_loss_log = []\n",
    "\n",
    "\n",
    "# In[15]:\n",
    "\n",
    "\n",
    "for epoch in range(25):\n",
    "\n",
    "    for x_batch, y_batch in iterate_minibatches(X_train, y_train, batchsize=32):\n",
    "        loss = train(network, x_batch, y_batch)\n",
    "    \n",
    "    train_log.append(np.mean(predict(network, X_train)==y_train))\n",
    "    val_log.append(np.mean(predict(network, X_val)==y_val))\n",
    "    train_loss_log.append(loss)\n",
    "    \n",
    "    clear_output()\n",
    "    print(\"Epoch\", epoch)\n",
    "    print(\"Train loss:\", train_loss_log[-1])\n",
    "    print(\"Train accuracy:\", train_log[-1])\n",
    "    print(\"Val accuracy:\", val_log[-1])\n",
    "    plt.plot(train_log, label='train accuracy')\n",
    "    plt.plot(val_log, label='val accuracy')\n",
    "    plt.legend(loc='best')\n",
    "    plt.grid()\n",
    "    plt.show()"
   ]
  },
  {
   "cell_type": "code",
   "execution_count": null,
   "metadata": {},
   "outputs": [],
   "source": []
  }
 ],
 "metadata": {
  "kernelspec": {
   "display_name": "Python 3",
   "language": "python",
   "name": "python3"
  },
  "language_info": {
   "codemirror_mode": {
    "name": "ipython",
    "version": 3
   },
   "file_extension": ".py",
   "mimetype": "text/x-python",
   "name": "python",
   "nbconvert_exporter": "python",
   "pygments_lexer": "ipython3",
   "version": "3.6.0"
  }
 },
 "nbformat": 4,
 "nbformat_minor": 2
}
